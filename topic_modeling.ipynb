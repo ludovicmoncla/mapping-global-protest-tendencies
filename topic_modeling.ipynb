{
 "cells": [
  {
   "cell_type": "markdown",
   "metadata": {},
   "source": [
    "# Topic Modeling with BERTopic"
   ]
  },
  {
   "cell_type": "markdown",
   "metadata": {},
   "source": [
    "## Import Python packages"
   ]
  },
  {
   "cell_type": "code",
   "execution_count": null,
   "metadata": {},
   "outputs": [],
   "source": [
    "import os\n",
    "import pandas as pd\n",
    "from bertopic import BERTopic\n",
    "from bertopic.representation import KeyBERTInspired, OpenAI\n",
    "import openai\n",
    "import tiktoken"
   ]
  },
  {
   "cell_type": "markdown",
   "metadata": {},
   "source": [
    "## Load Wikipedia protest preprocessed dataset"
   ]
  },
  {
   "cell_type": "code",
   "execution_count": null,
   "metadata": {},
   "outputs": [],
   "source": [
    "df = pd.read_csv(os.path.join('data','wikipedia_content_preprocessed.csv'))\n",
    "df.head()"
   ]
  },
  {
   "cell_type": "markdown",
   "metadata": {},
   "source": [
    "## Zero shot topic modeling"
   ]
  },
  {
   "cell_type": "code",
   "execution_count": null,
   "metadata": {},
   "outputs": [],
   "source": [
    "key_topics = [\"race\", \"gender\", \"nationality\", \"ethnicity\", \"language\", \"religion\", \"disability\"]\n",
    "\n",
    "zeroshot_min_similarity = .85\n",
    "min_topic_size = 50\n",
    "representation = 'KeyBERTInspired' # KeyBERTInspired | gpt-3.5-turbo\n",
    "embedding_model = \"thenlper/gte-small\" # \"thenlper/gte-small\" | \"all-MiniLM-L6-v2\" (default)\n",
    "\n",
    "model_path = os.path.join('models','zeroshot_'+representation+'_minsize'+str(min_topic_size)+'_minsimilarity'+str(zeroshot_min_similarity)+'.pickle')"
   ]
  },
  {
   "cell_type": "code",
   "execution_count": null,
   "metadata": {},
   "outputs": [],
   "source": [
    "if representation == 'KeyBERTInspired':\n",
    "    topic_model = BERTopic(\n",
    "        embedding_model = embedding_model, \n",
    "        min_topic_size = min_topic_size,\n",
    "        zeroshot_topic_list = key_topics,\n",
    "        zeroshot_min_similarity = zeroshot_min_similarity,\n",
    "        representation_model = KeyBERTInspired()\n",
    "    )\n",
    "\n",
    "if representation == 'gpt-3.5-turbo':\n",
    "    client = openai.OpenAI(api_key=os.environ['OPENAI_API_KEY'])\n",
    "    tokenizer = tiktoken.encoding_for_model(representation)\n",
    "    representation_model = OpenAI(client, model=representation, doc_length=100, delay_in_seconds=2, tokenizer=tokenizer, chat=True)\n",
    "    topic_model_AI = BERTopic(\n",
    "        embedding_model = embedding_model, \n",
    "        zeroshot_topic_list = key_topics,\n",
    "        zeroshot_min_similarity = zeroshot_min_similarity,\n",
    "        min_topic_size = min_topic_size,\n",
    "        representation_model = representation_model\n",
    "    )\n",
    "\n",
    "topics, _ = topic_model.fit_transform(df['content_preprocessed_short'])"
   ]
  },
  {
   "cell_type": "code",
   "execution_count": null,
   "metadata": {},
   "outputs": [],
   "source": [
    "topic_model.save(model_path, serialization=\"pickle\")"
   ]
  },
  {
   "cell_type": "code",
   "execution_count": null,
   "metadata": {},
   "outputs": [],
   "source": [
    "topic_model = BERTopic.load(model_path)"
   ]
  },
  {
   "cell_type": "code",
   "execution_count": null,
   "metadata": {},
   "outputs": [],
   "source": [
    "df_topic_info = topic_model.get_topic_info()\n"
   ]
  },
  {
   "cell_type": "code",
   "execution_count": null,
   "metadata": {},
   "outputs": [],
   "source": [
    "df_topic_info.head(10)"
   ]
  },
  {
   "cell_type": "code",
   "execution_count": null,
   "metadata": {},
   "outputs": [],
   "source": [
    "df_topic_info.to_csv(os.path.join('outputs','topic_info_zeroshot_'+representation+'_minsize'+str(min_topic_size)+'_minsimilarity'+str(zeroshot_min_similarity)+'.csv'), index=False)"
   ]
  },
  {
   "cell_type": "code",
   "execution_count": null,
   "metadata": {},
   "outputs": [],
   "source": [
    "df_document_info = topic_model.get_document_info(df['content_preprocessed_short'])"
   ]
  },
  {
   "cell_type": "code",
   "execution_count": null,
   "metadata": {},
   "outputs": [],
   "source": [
    "df_document_info.head(10)"
   ]
  },
  {
   "cell_type": "code",
   "execution_count": null,
   "metadata": {},
   "outputs": [],
   "source": [
    "df_document_info.to_csv(os.path.join('outputs','document_topic_info_zeroshot_'+representation+'_minsize'+str(min_topic_size)+'_minsimilarity'+str(zeroshot_min_similarity)+'.csv'), index=False)"
   ]
  },
  {
   "cell_type": "code",
   "execution_count": null,
   "metadata": {},
   "outputs": [],
   "source": []
  }
 ],
 "metadata": {
  "kernelspec": {
   "display_name": "Python 3",
   "language": "python",
   "name": "python3"
  },
  "language_info": {
   "codemirror_mode": {
    "name": "ipython",
    "version": 3
   },
   "file_extension": ".py",
   "mimetype": "text/x-python",
   "name": "python",
   "nbconvert_exporter": "python",
   "pygments_lexer": "ipython3",
   "version": "3.9.18"
  },
  "orig_nbformat": 4
 },
 "nbformat": 4,
 "nbformat_minor": 2
}
